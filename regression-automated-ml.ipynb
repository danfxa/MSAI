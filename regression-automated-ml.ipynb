{
  "cells": [
    {
      "cell_type": "markdown",
      "source": [
        "Copyright (c) Microsoft Corporation. All rights reserved."
      ],
      "metadata": {}
    },
    {
      "cell_type": "markdown",
      "source": [
        "![Impressions](https://PixelServer20190423114238.azurewebsites.net/api/impressions/NotebookVM/tutorials/regression-part2-automated-ml.png)"
      ],
      "metadata": {}
    },
    {
      "cell_type": "markdown",
      "source": [
        "# Prediksi harga rumah dengan beberapa metode\r\n",
        "\r\n",
        "Percobaan ini menggunakan beberapa metode analisis regresi yang terdapat di azure automl"
      ],
      "metadata": {}
    },
    {
      "cell_type": "markdown",
      "source": [
        "## Prerequisites"
      ],
      "metadata": {}
    },
    {
      "cell_type": "markdown",
      "source": [
        "## Prepare data"
      ],
      "metadata": {}
    },
    {
      "cell_type": "code",
      "source": [
        "import pandas as pd\n",
        "from azureml.core import Dataset\n",
        "from datetime import datetime\n",
        "from dateutil.relativedelta import relativedelta"
      ],
      "outputs": [],
      "execution_count": 1,
      "metadata": {
        "gather": {
          "logged": 1638895649802
        }
      }
    },
    {
      "cell_type": "markdown",
      "source": [
        "Mengambil dataset yang sebelumnya sudah di upload di github\r\n",
        "\r\n",
        "Persiapan data hanya menghapus data id karena data tersebut tidak digunakan"
      ],
      "metadata": {}
    },
    {
      "cell_type": "code",
      "source": [
        "data = pd.read_csv('https://raw.githubusercontent.com/danfxa/MSAI/main/MariBisnis.csv')\n",
        "data = data.drop(columns = 'id')\n",
        "data.head()"
      ],
      "outputs": [
        {
          "output_type": "execute_result",
          "execution_count": 4,
          "data": {
            "text/plain": "              date     price  bedrooms  bathrooms  sqft_living  sqft_lot  \\\n0  20141013T000000  221900.0         3       1.00         1180      5650   \n1  20141209T000000  538000.0         3       2.25         2570      7242   \n2  20150225T000000  180000.0         2       1.00          770     10000   \n3  20141209T000000  604000.0         4       3.00         1960      5000   \n4  20150218T000000  510000.0         3       2.00         1680      8080   \n\n   floors  waterfront  view  condition  grade  sqft_above  sqft_basement  \\\n0     1.0           0     0          3      7        1180              0   \n1     2.0           0     0          3      7        2170            400   \n2     1.0           0     0          3      6         770              0   \n3     1.0           0     0          5      7        1050            910   \n4     1.0           0     0          3      8        1680              0   \n\n   yr_built  yr_renovated  zipcode      lat     long  sqft_living15  \\\n0      1955             0    98178  47.5112 -122.257           1340   \n1      1951          1991    98125  47.7210 -122.319           1690   \n2      1933             0    98028  47.7379 -122.233           2720   \n3      1965             0    98136  47.5208 -122.393           1360   \n4      1987             0    98074  47.6168 -122.045           1800   \n\n   sqft_lot15  \n0        5650  \n1        7639  \n2        8062  \n3        5000  \n4        7503  ",
            "text/html": "<div>\n<style scoped>\n    .dataframe tbody tr th:only-of-type {\n        vertical-align: middle;\n    }\n\n    .dataframe tbody tr th {\n        vertical-align: top;\n    }\n\n    .dataframe thead th {\n        text-align: right;\n    }\n</style>\n<table border=\"1\" class=\"dataframe\">\n  <thead>\n    <tr style=\"text-align: right;\">\n      <th></th>\n      <th>date</th>\n      <th>price</th>\n      <th>bedrooms</th>\n      <th>bathrooms</th>\n      <th>sqft_living</th>\n      <th>sqft_lot</th>\n      <th>floors</th>\n      <th>waterfront</th>\n      <th>view</th>\n      <th>condition</th>\n      <th>grade</th>\n      <th>sqft_above</th>\n      <th>sqft_basement</th>\n      <th>yr_built</th>\n      <th>yr_renovated</th>\n      <th>zipcode</th>\n      <th>lat</th>\n      <th>long</th>\n      <th>sqft_living15</th>\n      <th>sqft_lot15</th>\n    </tr>\n  </thead>\n  <tbody>\n    <tr>\n      <th>0</th>\n      <td>20141013T000000</td>\n      <td>221900.0</td>\n      <td>3</td>\n      <td>1.00</td>\n      <td>1180</td>\n      <td>5650</td>\n      <td>1.0</td>\n      <td>0</td>\n      <td>0</td>\n      <td>3</td>\n      <td>7</td>\n      <td>1180</td>\n      <td>0</td>\n      <td>1955</td>\n      <td>0</td>\n      <td>98178</td>\n      <td>47.5112</td>\n      <td>-122.257</td>\n      <td>1340</td>\n      <td>5650</td>\n    </tr>\n    <tr>\n      <th>1</th>\n      <td>20141209T000000</td>\n      <td>538000.0</td>\n      <td>3</td>\n      <td>2.25</td>\n      <td>2570</td>\n      <td>7242</td>\n      <td>2.0</td>\n      <td>0</td>\n      <td>0</td>\n      <td>3</td>\n      <td>7</td>\n      <td>2170</td>\n      <td>400</td>\n      <td>1951</td>\n      <td>1991</td>\n      <td>98125</td>\n      <td>47.7210</td>\n      <td>-122.319</td>\n      <td>1690</td>\n      <td>7639</td>\n    </tr>\n    <tr>\n      <th>2</th>\n      <td>20150225T000000</td>\n      <td>180000.0</td>\n      <td>2</td>\n      <td>1.00</td>\n      <td>770</td>\n      <td>10000</td>\n      <td>1.0</td>\n      <td>0</td>\n      <td>0</td>\n      <td>3</td>\n      <td>6</td>\n      <td>770</td>\n      <td>0</td>\n      <td>1933</td>\n      <td>0</td>\n      <td>98028</td>\n      <td>47.7379</td>\n      <td>-122.233</td>\n      <td>2720</td>\n      <td>8062</td>\n    </tr>\n    <tr>\n      <th>3</th>\n      <td>20141209T000000</td>\n      <td>604000.0</td>\n      <td>4</td>\n      <td>3.00</td>\n      <td>1960</td>\n      <td>5000</td>\n      <td>1.0</td>\n      <td>0</td>\n      <td>0</td>\n      <td>5</td>\n      <td>7</td>\n      <td>1050</td>\n      <td>910</td>\n      <td>1965</td>\n      <td>0</td>\n      <td>98136</td>\n      <td>47.5208</td>\n      <td>-122.393</td>\n      <td>1360</td>\n      <td>5000</td>\n    </tr>\n    <tr>\n      <th>4</th>\n      <td>20150218T000000</td>\n      <td>510000.0</td>\n      <td>3</td>\n      <td>2.00</td>\n      <td>1680</td>\n      <td>8080</td>\n      <td>1.0</td>\n      <td>0</td>\n      <td>0</td>\n      <td>3</td>\n      <td>8</td>\n      <td>1680</td>\n      <td>0</td>\n      <td>1987</td>\n      <td>0</td>\n      <td>98074</td>\n      <td>47.6168</td>\n      <td>-122.045</td>\n      <td>1800</td>\n      <td>7503</td>\n    </tr>\n  </tbody>\n</table>\n</div>"
          },
          "metadata": {}
        }
      ],
      "execution_count": 4,
      "metadata": {
        "gather": {
          "logged": 1638946463509
        }
      }
    },
    {
      "cell_type": "markdown",
      "source": [
        "### Cleanse data "
      ],
      "metadata": {}
    },
    {
      "cell_type": "markdown",
      "source": [
        "Menjalankan `describe()` akan menampilkan statistik dari data."
      ],
      "metadata": {}
    },
    {
      "cell_type": "code",
      "source": [
        "data.describe()"
      ],
      "outputs": [
        {
          "output_type": "execute_result",
          "execution_count": 26,
          "data": {
            "text/plain": "           price  bedrooms  bathrooms  sqft_living   sqft_lot   floors  \\\ncount   21613.00  21613.00   21613.00     21613.00   21613.00 21613.00   \nmean   540088.14      3.37       2.11      2079.90   15106.97     1.49   \nstd    367127.20      0.93       0.77       918.44   41420.51     0.54   \nmin     75000.00      0.00       0.00       290.00     520.00     1.00   \n25%    321950.00      3.00       1.75      1427.00    5040.00     1.00   \n50%    450000.00      3.00       2.25      1910.00    7618.00     1.50   \n75%    645000.00      4.00       2.50      2550.00   10688.00     2.00   \nmax   7700000.00     33.00       8.00     13540.00 1651359.00     3.50   \n\n       waterfront     view  condition    grade  sqft_above  sqft_basement  \\\ncount    21613.00 21613.00   21613.00 21613.00    21613.00       21613.00   \nmean         0.01     0.23       3.41     7.66     1788.39         291.51   \nstd          0.09     0.77       0.65     1.18      828.09         442.58   \nmin          0.00     0.00       1.00     1.00      290.00           0.00   \n25%          0.00     0.00       3.00     7.00     1190.00           0.00   \n50%          0.00     0.00       3.00     7.00     1560.00           0.00   \n75%          0.00     0.00       4.00     8.00     2210.00         560.00   \nmax          1.00     4.00       5.00    13.00     9410.00        4820.00   \n\n       yr_built  yr_renovated  zipcode      lat     long  sqft_living15  \\\ncount  21613.00      21613.00 21613.00 21613.00 21613.00       21613.00   \nmean    1971.01         84.40 98077.94    47.56  -122.21        1986.55   \nstd       29.37        401.68    53.51     0.14     0.14         685.39   \nmin     1900.00          0.00 98001.00    47.16  -122.52         399.00   \n25%     1951.00          0.00 98033.00    47.47  -122.33        1490.00   \n50%     1975.00          0.00 98065.00    47.57  -122.23        1840.00   \n75%     1997.00          0.00 98118.00    47.68  -122.12        2360.00   \nmax     2015.00       2015.00 98199.00    47.78  -121.31        6210.00   \n\n       sqft_lot15  \ncount    21613.00  \nmean     12768.46  \nstd      27304.18  \nmin        651.00  \n25%       5100.00  \n50%       7620.00  \n75%      10083.00  \nmax     871200.00  ",
            "text/html": "<div>\n<style scoped>\n    .dataframe tbody tr th:only-of-type {\n        vertical-align: middle;\n    }\n\n    .dataframe tbody tr th {\n        vertical-align: top;\n    }\n\n    .dataframe thead th {\n        text-align: right;\n    }\n</style>\n<table border=\"1\" class=\"dataframe\">\n  <thead>\n    <tr style=\"text-align: right;\">\n      <th></th>\n      <th>price</th>\n      <th>bedrooms</th>\n      <th>bathrooms</th>\n      <th>sqft_living</th>\n      <th>sqft_lot</th>\n      <th>floors</th>\n      <th>waterfront</th>\n      <th>view</th>\n      <th>condition</th>\n      <th>grade</th>\n      <th>sqft_above</th>\n      <th>sqft_basement</th>\n      <th>yr_built</th>\n      <th>yr_renovated</th>\n      <th>zipcode</th>\n      <th>lat</th>\n      <th>long</th>\n      <th>sqft_living15</th>\n      <th>sqft_lot15</th>\n    </tr>\n  </thead>\n  <tbody>\n    <tr>\n      <th>count</th>\n      <td>21613.00</td>\n      <td>21613.00</td>\n      <td>21613.00</td>\n      <td>21613.00</td>\n      <td>21613.00</td>\n      <td>21613.00</td>\n      <td>21613.00</td>\n      <td>21613.00</td>\n      <td>21613.00</td>\n      <td>21613.00</td>\n      <td>21613.00</td>\n      <td>21613.00</td>\n      <td>21613.00</td>\n      <td>21613.00</td>\n      <td>21613.00</td>\n      <td>21613.00</td>\n      <td>21613.00</td>\n      <td>21613.00</td>\n      <td>21613.00</td>\n    </tr>\n    <tr>\n      <th>mean</th>\n      <td>540088.14</td>\n      <td>3.37</td>\n      <td>2.11</td>\n      <td>2079.90</td>\n      <td>15106.97</td>\n      <td>1.49</td>\n      <td>0.01</td>\n      <td>0.23</td>\n      <td>3.41</td>\n      <td>7.66</td>\n      <td>1788.39</td>\n      <td>291.51</td>\n      <td>1971.01</td>\n      <td>84.40</td>\n      <td>98077.94</td>\n      <td>47.56</td>\n      <td>-122.21</td>\n      <td>1986.55</td>\n      <td>12768.46</td>\n    </tr>\n    <tr>\n      <th>std</th>\n      <td>367127.20</td>\n      <td>0.93</td>\n      <td>0.77</td>\n      <td>918.44</td>\n      <td>41420.51</td>\n      <td>0.54</td>\n      <td>0.09</td>\n      <td>0.77</td>\n      <td>0.65</td>\n      <td>1.18</td>\n      <td>828.09</td>\n      <td>442.58</td>\n      <td>29.37</td>\n      <td>401.68</td>\n      <td>53.51</td>\n      <td>0.14</td>\n      <td>0.14</td>\n      <td>685.39</td>\n      <td>27304.18</td>\n    </tr>\n    <tr>\n      <th>min</th>\n      <td>75000.00</td>\n      <td>0.00</td>\n      <td>0.00</td>\n      <td>290.00</td>\n      <td>520.00</td>\n      <td>1.00</td>\n      <td>0.00</td>\n      <td>0.00</td>\n      <td>1.00</td>\n      <td>1.00</td>\n      <td>290.00</td>\n      <td>0.00</td>\n      <td>1900.00</td>\n      <td>0.00</td>\n      <td>98001.00</td>\n      <td>47.16</td>\n      <td>-122.52</td>\n      <td>399.00</td>\n      <td>651.00</td>\n    </tr>\n    <tr>\n      <th>25%</th>\n      <td>321950.00</td>\n      <td>3.00</td>\n      <td>1.75</td>\n      <td>1427.00</td>\n      <td>5040.00</td>\n      <td>1.00</td>\n      <td>0.00</td>\n      <td>0.00</td>\n      <td>3.00</td>\n      <td>7.00</td>\n      <td>1190.00</td>\n      <td>0.00</td>\n      <td>1951.00</td>\n      <td>0.00</td>\n      <td>98033.00</td>\n      <td>47.47</td>\n      <td>-122.33</td>\n      <td>1490.00</td>\n      <td>5100.00</td>\n    </tr>\n    <tr>\n      <th>50%</th>\n      <td>450000.00</td>\n      <td>3.00</td>\n      <td>2.25</td>\n      <td>1910.00</td>\n      <td>7618.00</td>\n      <td>1.50</td>\n      <td>0.00</td>\n      <td>0.00</td>\n      <td>3.00</td>\n      <td>7.00</td>\n      <td>1560.00</td>\n      <td>0.00</td>\n      <td>1975.00</td>\n      <td>0.00</td>\n      <td>98065.00</td>\n      <td>47.57</td>\n      <td>-122.23</td>\n      <td>1840.00</td>\n      <td>7620.00</td>\n    </tr>\n    <tr>\n      <th>75%</th>\n      <td>645000.00</td>\n      <td>4.00</td>\n      <td>2.50</td>\n      <td>2550.00</td>\n      <td>10688.00</td>\n      <td>2.00</td>\n      <td>0.00</td>\n      <td>0.00</td>\n      <td>4.00</td>\n      <td>8.00</td>\n      <td>2210.00</td>\n      <td>560.00</td>\n      <td>1997.00</td>\n      <td>0.00</td>\n      <td>98118.00</td>\n      <td>47.68</td>\n      <td>-122.12</td>\n      <td>2360.00</td>\n      <td>10083.00</td>\n    </tr>\n    <tr>\n      <th>max</th>\n      <td>7700000.00</td>\n      <td>33.00</td>\n      <td>8.00</td>\n      <td>13540.00</td>\n      <td>1651359.00</td>\n      <td>3.50</td>\n      <td>1.00</td>\n      <td>4.00</td>\n      <td>5.00</td>\n      <td>13.00</td>\n      <td>9410.00</td>\n      <td>4820.00</td>\n      <td>2015.00</td>\n      <td>2015.00</td>\n      <td>98199.00</td>\n      <td>47.78</td>\n      <td>-121.31</td>\n      <td>6210.00</td>\n      <td>871200.00</td>\n    </tr>\n  </tbody>\n</table>\n</div>"
          },
          "metadata": {}
        }
      ],
      "execution_count": 26,
      "metadata": {
        "gather": {
          "logged": 1638948769081
        }
      }
    },
    {
      "cell_type": "markdown",
      "source": [
        "## Configure workspace\n"
      ],
      "metadata": {}
    },
    {
      "cell_type": "markdown",
      "source": [
        "Create a workspace object from the existing workspace. A [Workspace](https://docs.microsoft.com/python/api/azureml-core/azureml.core.workspace.workspace?view=azure-ml-py) is a class that accepts your Azure subscription and resource information. It also creates a cloud resource to monitor and track your model runs. `Workspace.from_config()` reads the file **config.json** and loads the authentication details into an object named `ws`. `ws` is used throughout the rest of the code in this tutorial."
      ],
      "metadata": {}
    },
    {
      "cell_type": "code",
      "source": [
        "from azureml.core.workspace import Workspace\n",
        "ws = Workspace.from_config()"
      ],
      "outputs": [],
      "execution_count": 5,
      "metadata": {
        "gather": {
          "logged": 1638946490101
        }
      }
    },
    {
      "cell_type": "markdown",
      "source": [
        "## Membagi data menjadi data training dan data testing"
      ],
      "metadata": {}
    },
    {
      "cell_type": "markdown",
      "source": [
        "Proses membagi ini bertujuan untuk mengetahui seberapa akurat model yang digunakan dengan menggunakan hasil konfigurasi dari training data yang diterapkan pada data testing yang kemudian dibandingkan antara hasil prediksi dengan nilai yang sesungguhnya (target)"
      ],
      "metadata": {}
    },
    {
      "cell_type": "code",
      "source": [
        "from sklearn.model_selection import train_test_split\n",
        "\n",
        "x_train, x_test = train_test_split(data, test_size=0.2, random_state=223)"
      ],
      "outputs": [],
      "execution_count": 15,
      "metadata": {
        "gather": {
          "logged": 1638946957626
        }
      }
    },
    {
      "cell_type": "markdown",
      "source": [
        "## Automatically train a model"
      ],
      "metadata": {}
    },
    {
      "cell_type": "markdown",
      "source": [
        "### Define training settings"
      ],
      "metadata": {}
    },
    {
      "cell_type": "markdown",
      "source": [
        "Define the experiment parameter and model settings for training. View the full list of [settings](https://docs.microsoft.com/azure/machine-learning/service/how-to-configure-auto-train). Submitting the experiment with these default settings will take approximately 20 minutes, but if you want a shorter run time, reduce the `experiment_timeout_hours` parameter.\n",
        "\n",
        "\n",
        "|Property| Value in this tutorial |Description|\n",
        "|----|----|---|\n",
        "|**iteration_timeout_minutes**|10|Time limit in minutes for each iteration. Increase this value for larger datasets that need more time for each iteration.|\n",
        "|**experiment_timeout_hours**|0.3|Maximum amount of time in hours that all iterations combined can take before the experiment terminates.|\n",
        "|**enable_early_stopping**|True|Flag to enable early termination if the score is not improving in the short term.|\n",
        "|**primary_metric**| spearman_correlation | Metric that you want to optimize. The best-fit model will be chosen based on this metric.|\n",
        "|**featurization**| auto | By using auto, the experiment can preprocess the input data (handling missing data, converting text to numeric, etc.)|\n",
        "|**verbosity**| logging.INFO | Controls the level of logging.|\n",
        "|**n_cross_validations**|5|Number of cross-validation splits to perform when validation data is not specified.|"
      ],
      "metadata": {}
    },
    {
      "cell_type": "code",
      "source": [
        "import logging\n",
        "\n",
        "automl_settings = {\n",
        "    \"iteration_timeout_minutes\": 10,\n",
        "    \"experiment_timeout_hours\": 0.3,\n",
        "    \"enable_early_stopping\": True,\n",
        "    \"primary_metric\": 'spearman_correlation',\n",
        "    \"featurization\": 'auto',\n",
        "    \"verbosity\": logging.INFO,\n",
        "    \"n_cross_validations\": 5\n",
        "}"
      ],
      "outputs": [],
      "execution_count": 16,
      "metadata": {
        "gather": {
          "logged": 1638946962938
        }
      }
    },
    {
      "cell_type": "code",
      "source": [
        "from azureml.train.automl import AutoMLConfig\n",
        "\n",
        "automl_config = AutoMLConfig(task='regression',\n",
        "                             debug_log='automated_ml_errors.log',\n",
        "                             training_data=x_train,\n",
        "                             label_column_name=\"price\",\n",
        "                             **automl_settings)"
      ],
      "outputs": [],
      "execution_count": 17,
      "metadata": {
        "gather": {
          "logged": 1638946972913
        }
      }
    },
    {
      "cell_type": "markdown",
      "source": [
        "Proses otomatis ini sudah menangani preprosesing data dan memilih model yang bagus"
      ],
      "metadata": {}
    },
    {
      "cell_type": "markdown",
      "source": [
        "### Train the automatic regression model"
      ],
      "metadata": {}
    },
    {
      "cell_type": "markdown",
      "source": [
        "Create an experiment object in your workspace. An experiment acts as a container for your individual runs. Pass the defined `automl_config` object to the experiment, and set the output to `True` to view progress during the run. \n",
        "\n",
        "After starting the experiment, the output shown updates live as the experiment runs. For each iteration, you see the model type, the run duration, and the training accuracy. The field `BEST` tracks the best running training score based on your metric type."
      ],
      "metadata": {}
    },
    {
      "cell_type": "code",
      "source": [
        "from azureml.core.experiment import Experiment\n",
        "experiment = Experiment(ws, \"capstone\")\n",
        "local_run = experiment.submit(automl_config, show_output=True)"
      ],
      "outputs": [
        {
          "output_type": "stream",
          "name": "stdout",
          "text": "No run_configuration provided, running on local with default configuration\nRunning in the active local environment.\n"
        },
        {
          "output_type": "display_data",
          "data": {
            "text/plain": "<IPython.core.display.HTML object>",
            "text/html": "<table style=\"width:100%\"><tr><th>Experiment</th><th>Id</th><th>Type</th><th>Status</th><th>Details Page</th><th>Docs Page</th></tr><tr><td>capstone</td><td>AutoML_4e6b9a31-fdbd-4404-8114-29953371ae80</td><td>automl</td><td>Preparing</td><td><a href=\"https://ml.azure.com/runs/AutoML_4e6b9a31-fdbd-4404-8114-29953371ae80?wsid=/subscriptions/4be2ae3b-35bd-4af4-87a9-c5a51780eb5d/resourcegroups/capstonemsai/workspaces/capstoneai&amp;tid=7ea7bf91-415e-457d-91f9-4b053e2d0c6a\" target=\"_blank\" rel=\"noopener\">Link to Azure Machine Learning studio</a></td><td><a href=\"https://docs.microsoft.com/en-us/python/api/overview/azure/ml/intro?view=azure-ml-py\" target=\"_blank\" rel=\"noopener\">Link to Documentation</a></td></tr></table>"
          },
          "metadata": {}
        },
        {
          "output_type": "stream",
          "name": "stdout",
          "text": "Current status: DatasetEvaluation. Gathering dataset statistics.\nCurrent status: FeaturesGeneration. Generating features for the dataset.\nCurrent status: DatasetFeaturization. Beginning to fit featurizers and featurize the dataset.\nCurrent status: DatasetFeaturizationCompleted. Completed fit featurizers and featurizing the dataset.\nCurrent status: DatasetCrossValidationSplit. Generating individually featurized CV splits.\n\n****************************************************************************************************\nDATA GUARDRAILS: \n\nTYPE:         Missing feature values imputation\nSTATUS:       PASSED\nDESCRIPTION:  No feature missing values were detected in the training data.\n              Learn more about missing value imputation: https://aka.ms/AutomatedMLFeaturization\n\n****************************************************************************************************\n\nTYPE:         High cardinality feature detection\nSTATUS:       PASSED\nDESCRIPTION:  Your inputs were analyzed, and no high cardinality features were detected.\n              Learn more about high cardinality feature handling: https://aka.ms/AutomatedMLFeaturization\n\n****************************************************************************************************\nCurrent status: ModelSelection. Beginning model selection.\n\n****************************************************************************************************\nITERATION: The iteration being evaluated.\nPIPELINE: A summary description of the pipeline being evaluated.\nDURATION: Time taken for the current iteration.\nMETRIC: The result of computing score on the fitted pipeline.\nBEST: The best observed score thus far.\n****************************************************************************************************\n\n ITERATION   PIPELINE                                       DURATION      METRIC      BEST\n         0   MaxAbsScaler LightGBM                          0:00:25       0.9460    0.9460\n         1   MaxAbsScaler XGBoostRegressor                  0:00:26       0.9272    0.9460\n         2   MaxAbsScaler ElasticNet                        0:02:05       0.8553    0.9460\n         3   StandardScalerWrapper XGBoostRegressor         0:00:30       0.9474    0.9474\n         4   StandardScalerWrapper XGBoostRegressor         0:00:22       0.8568    0.9474\n         5   StandardScalerWrapper ExtremeRandomTrees       0:00:23       0.8659    0.9474\n         6   StandardScalerWrapper RandomForest             0:00:32       0.9117    0.9474\n         7   StandardScalerWrapper DecisionTree             0:00:21       0.8924    0.9474\n         8   StandardScalerWrapper LightGBM                 0:00:25       0.9224    0.9474\n         9   StandardScalerWrapper LightGBM                 0:00:30       0.9395    0.9474\n        10   StandardScalerWrapper ElasticNet               0:00:37       0.8555    0.9474\n        11   StandardScalerWrapper ElasticNet               0:01:53       0.8531    0.9474\n        12   MaxAbsScaler ExtremeRandomTrees                0:02:35       0.8945    0.9474\n        13   StandardScalerWrapper XGBoostRegressor         0:00:29       0.9450    0.9474\n        14   StandardScalerWrapper DecisionTree             0:00:21       0.8906    0.9474\n        15   StandardScalerWrapper ElasticNet               0:00:34       0.8554    0.9474\n        16   VotingEnsemble                                 0:00:31       0.9493    0.9493\n        21   StackEnsemble                                  0:00:30       0.9490    0.9493\nStopping criteria reached at iteration 22. Ending experiment.\n****************************************************************************************************\nCurrent status: BestRunExplainModel. Best run model explanations started\nCurrent status: ModelExplanationDataSetSetup. Model explanations data setup completed\nCurrent status: PickSurrogateModel. Choosing LightGBM as the surrogate model for explanations\nCurrent status: EngineeredFeatureExplanations. Computation of engineered features started\nCurrent status: EngineeredFeatureExplanations. Computation of engineered features completed\nCurrent status: RawFeaturesExplanations. Computation of raw features started\nCurrent status: RawFeaturesExplanations. Computation of raw features completed\nCurrent status: BestRunExplainModel. Best run model explanations completed\n****************************************************************************************************\n"
        },
        {
          "output_type": "stream",
          "name": "stderr",
          "text": "Cannot serialize JSON possibly due to timestamp, retrying\n"
        }
      ],
      "execution_count": 18,
      "metadata": {
        "gather": {
          "logged": 1638948214669
        }
      }
    },
    {
      "cell_type": "markdown",
      "source": [
        "## Explore the results"
      ],
      "metadata": {}
    },
    {
      "cell_type": "markdown",
      "source": [
        "Explore the results of automatic training with a [Jupyter widget](https://docs.microsoft.com/python/api/azureml-widgets/azureml.widgets?view=azure-ml-py). The widget allows you to see a graph and table of all individual run iterations, along with training accuracy metrics and metadata. Additionally, you can filter on different accuracy metrics than your primary metric with the dropdown selector."
      ],
      "metadata": {}
    },
    {
      "cell_type": "code",
      "source": [
        "from azureml.widgets import RunDetails\n",
        "RunDetails(local_run).show()"
      ],
      "outputs": [
        {
          "output_type": "display_data",
          "data": {
            "text/plain": "_AutoMLWidget(widget_settings={'childWidgetDisplay': 'popup', 'send_telemetry': False, 'log_level': 'INFO', 's…",
            "application/vnd.jupyter.widget-view+json": {
              "version_major": 2,
              "version_minor": 0,
              "model_id": "49d858c44e31482f9f7214705a9b0e30"
            }
          },
          "metadata": {}
        },
        {
          "output_type": "display_data",
          "data": {
            "application/aml.mini.widget.v1": "{\"status\": \"Completed\", \"workbench_run_details_uri\": \"https://ml.azure.com/runs/AutoML_4e6b9a31-fdbd-4404-8114-29953371ae80?wsid=/subscriptions/4be2ae3b-35bd-4af4-87a9-c5a51780eb5d/resourcegroups/capstonemsai/workspaces/capstoneai&tid=7ea7bf91-415e-457d-91f9-4b053e2d0c6a\", \"run_id\": \"AutoML_4e6b9a31-fdbd-4404-8114-29953371ae80\", \"run_properties\": {\"run_id\": \"AutoML_4e6b9a31-fdbd-4404-8114-29953371ae80\", \"created_utc\": \"2021-12-08T07:02:56.471595Z\", \"properties\": {\"num_iterations\": \"1000\", \"training_type\": \"TrainFull\", \"acquisition_function\": \"EI\", \"primary_metric\": \"spearman_correlation\", \"train_split\": \"0\", \"acquisition_parameter\": \"0\", \"num_cross_validation\": \"5\", \"target\": \"local\", \"AMLSettingsJsonString\": \"{\\\"path\\\":null,\\\"name\\\":\\\"capstone\\\",\\\"subscription_id\\\":\\\"4be2ae3b-35bd-4af4-87a9-c5a51780eb5d\\\",\\\"resource_group\\\":\\\"capstonemsai\\\",\\\"workspace_name\\\":\\\"capstoneai\\\",\\\"region\\\":\\\"eastus2\\\",\\\"compute_target\\\":\\\"local\\\",\\\"spark_service\\\":null,\\\"azure_service\\\":\\\"Microsoft.AzureNotebookVM\\\",\\\"many_models\\\":false,\\\"pipeline_fetch_max_batch_size\\\":1,\\\"enable_batch_run\\\":false,\\\"enable_run_restructure\\\":false,\\\"start_auxiliary_runs_before_parent_complete\\\":false,\\\"enable_code_generation\\\":false,\\\"iterations\\\":1000,\\\"primary_metric\\\":\\\"spearman_correlation\\\",\\\"task_type\\\":\\\"regression\\\",\\\"data_script\\\":null,\\\"test_size\\\":0.0,\\\"test_include_predictions_only\\\":false,\\\"validation_size\\\":0.0,\\\"n_cross_validations\\\":5,\\\"y_min\\\":null,\\\"y_max\\\":null,\\\"num_classes\\\":null,\\\"featurization\\\":\\\"auto\\\",\\\"_ignore_package_version_incompatibilities\\\":false,\\\"is_timeseries\\\":false,\\\"max_cores_per_iteration\\\":1,\\\"max_concurrent_iterations\\\":1,\\\"iteration_timeout_minutes\\\":10,\\\"mem_in_mb\\\":null,\\\"enforce_time_on_windows\\\":false,\\\"experiment_timeout_minutes\\\":18,\\\"experiment_exit_score\\\":null,\\\"whitelist_models\\\":null,\\\"blacklist_algos\\\":[\\\"TensorFlowDNN\\\",\\\"TensorFlowLinearRegressor\\\"],\\\"supported_models\\\":[\\\"GradientBoosting\\\",\\\"LightGBM\\\",\\\"SGD\\\",\\\"XGBoostRegressor\\\",\\\"TensorFlowDNN\\\",\\\"KNN\\\",\\\"RandomForest\\\",\\\"OnlineGradientDescentRegressor\\\",\\\"DecisionTree\\\",\\\"ExtremeRandomTrees\\\",\\\"TensorFlowLinearRegressor\\\",\\\"LassoLars\\\",\\\"FastLinearRegressor\\\",\\\"ElasticNet\\\"],\\\"private_models\\\":[],\\\"auto_blacklist\\\":true,\\\"blacklist_samples_reached\\\":false,\\\"exclude_nan_labels\\\":true,\\\"verbosity\\\":20,\\\"_debug_log\\\":\\\"automated_ml_errors.log\\\",\\\"show_warnings\\\":false,\\\"model_explainability\\\":true,\\\"service_url\\\":null,\\\"sdk_url\\\":null,\\\"sdk_packages\\\":null,\\\"enable_onnx_compatible_models\\\":false,\\\"enable_split_onnx_featurizer_estimator_models\\\":false,\\\"vm_type\\\":null,\\\"telemetry_verbosity\\\":20,\\\"send_telemetry\\\":true,\\\"enable_dnn\\\":false,\\\"scenario\\\":\\\"SDK-1.13.0\\\",\\\"environment_label\\\":null,\\\"save_mlflow\\\":false,\\\"force_text_dnn\\\":false,\\\"enable_feature_sweeping\\\":true,\\\"enable_early_stopping\\\":true,\\\"early_stopping_n_iters\\\":10,\\\"metrics\\\":null,\\\"enable_metric_confidence\\\":false,\\\"enable_ensembling\\\":true,\\\"enable_stack_ensembling\\\":true,\\\"ensemble_iterations\\\":15,\\\"enable_tf\\\":false,\\\"enable_subsampling\\\":null,\\\"subsample_seed\\\":null,\\\"enable_nimbusml\\\":false,\\\"enable_streaming\\\":false,\\\"force_streaming\\\":false,\\\"track_child_runs\\\":true,\\\"allowed_private_models\\\":[],\\\"label_column_name\\\":\\\"price\\\",\\\"weight_column_name\\\":null,\\\"cv_split_column_names\\\":null,\\\"positive_label\\\":null,\\\"enable_local_managed\\\":false,\\\"_local_managed_run_id\\\":null,\\\"cost_mode\\\":1,\\\"lag_length\\\":0,\\\"metric_operation\\\":\\\"maximize\\\",\\\"preprocess\\\":true}\", \"DataPrepJsonString\": null, \"EnableSubsampling\": null, \"runTemplate\": \"AutoML\", \"azureml.runsource\": \"automl\", \"display_task_type\": \"regression\", \"dependencies_versions\": \"{\\\"azureml-widgets\\\": \\\"1.34.0\\\", \\\"azureml-train\\\": \\\"1.34.0\\\", \\\"azureml-train-restclients-hyperdrive\\\": \\\"1.34.0\\\", \\\"azureml-train-core\\\": \\\"1.34.0\\\", \\\"azureml-train-automl\\\": \\\"1.34.0\\\", \\\"azureml-train-automl-runtime\\\": \\\"1.34.0\\\", \\\"azureml-train-automl-client\\\": \\\"1.34.0\\\", \\\"azureml-tensorboard\\\": \\\"1.34.0\\\", \\\"azureml-telemetry\\\": \\\"1.34.0\\\", \\\"azureml-sdk\\\": \\\"1.34.0\\\", \\\"azureml-samples\\\": \\\"0+unknown\\\", \\\"azureml-responsibleai\\\": \\\"1.34.0\\\", \\\"azureml-pipeline\\\": \\\"1.34.0\\\", \\\"azureml-pipeline-steps\\\": \\\"1.34.0\\\", \\\"azureml-pipeline-core\\\": \\\"1.34.0\\\", \\\"azureml-opendatasets\\\": \\\"1.34.0\\\", \\\"azureml-mlflow\\\": \\\"1.34.0\\\", \\\"azureml-interpret\\\": \\\"1.34.0\\\", \\\"azureml-inference-server-http\\\": \\\"0.3.1\\\", \\\"azureml-explain-model\\\": \\\"1.34.0\\\", \\\"azureml-defaults\\\": \\\"1.34.0\\\", \\\"azureml-dataset-runtime\\\": \\\"1.34.0\\\", \\\"azureml-dataprep\\\": \\\"2.22.2\\\", \\\"azureml-dataprep-rslex\\\": \\\"1.20.1\\\", \\\"azureml-dataprep-native\\\": \\\"38.0.0\\\", \\\"azureml-datadrift\\\": \\\"1.34.0\\\", \\\"azureml-core\\\": \\\"1.34.0\\\", \\\"azureml-contrib-services\\\": \\\"1.34.0\\\", \\\"azureml-contrib-server\\\": \\\"1.34.0\\\", \\\"azureml-contrib-reinforcementlearning\\\": \\\"1.34.0\\\", \\\"azureml-contrib-pipeline-steps\\\": \\\"1.34.0\\\", \\\"azureml-contrib-notebook\\\": \\\"1.34.0\\\", \\\"azureml-contrib-fairness\\\": \\\"1.34.0\\\", \\\"azureml-contrib-dataset\\\": \\\"1.34.0\\\", \\\"azureml-contrib-automl-pipeline-steps\\\": \\\"1.34.0\\\", \\\"azureml-cli-common\\\": \\\"1.34.0\\\", \\\"azureml-automl-runtime\\\": \\\"1.34.0\\\", \\\"azureml-automl-dnn-nlp\\\": \\\"1.34.0\\\", \\\"azureml-automl-core\\\": \\\"1.34.0\\\", \\\"azureml-accel-models\\\": \\\"1.34.0\\\"}\", \"_aml_system_scenario_identification\": \"Local.Parent\", \"ClientSdkVersion\": \"1.34.0\", \"ClientType\": \"SDK\", \"environment_cpu_name\": \"AzureML-AutoML\", \"environment_cpu_label\": \"prod\", \"environment_gpu_name\": \"AzureML-AutoML-GPU\", \"environment_gpu_label\": \"prod\", \"root_attribution\": \"automl\", \"attribution\": \"AutoML\", \"Orchestrator\": \"AutoML\", \"_azureml.ComputeTargetType\": \"local\", \"ProblemInfoJsonString\": \"{\\\"dataset_num_categorical\\\": 0, \\\"is_sparse\\\": true, \\\"subsampling\\\": false, \\\"has_extra_col\\\": true, \\\"dataset_classes\\\": 3502, \\\"dataset_features\\\": 304, \\\"dataset_samples\\\": 17290, \\\"single_frequency_class_detected\\\": false}\"}, \"tags\": {\"model_explain_run\": \"best_run\", \"best_score\": \"0.9493097805179522\", \"best_pipeline\": \"VotingEnsemble\", \"automl_best_child_run_id\": \"AutoML_4e6b9a31-fdbd-4404-8114-29953371ae80_20\", \"model_explain_best_run_child_id\": \"AutoML_4e6b9a31-fdbd-4404-8114-29953371ae80_20\"}, \"end_time_utc\": \"2021-12-08T07:22:27.169967Z\", \"status\": \"Completed\", \"log_files\": {}, \"log_groups\": [], \"run_duration\": \"0:19:30\", \"run_number\": \"182\", \"run_queued_details\": {\"status\": \"Completed\", \"details\": null}}, \"child_runs\": [{\"run_id\": \"AutoML_4e6b9a31-fdbd-4404-8114-29953371ae80_0\", \"run_number\": 183, \"metric\": null, \"status\": \"Completed\", \"run_type\": null, \"training_percent\": \"100\", \"start_time\": \"2021-12-08T07:06:02.528622Z\", \"end_time\": \"2021-12-08T07:06:28.012429Z\", \"created_time\": \"2021-12-08T07:06:02.393378Z\", \"created_time_dt\": \"2021-12-08T07:06:02.393378Z\", \"duration\": \"0:00:25\", \"iteration\": \"0\", \"goal\": \"spearman_correlation_max\", \"run_name\": \"MaxAbsScaler, LightGBM\", \"run_properties\": \"copy=True\", \"primary_metric\": 0.94595481, \"best_metric\": 0.94595481}, {\"run_id\": \"AutoML_4e6b9a31-fdbd-4404-8114-29953371ae80_1\", \"run_number\": 184, \"metric\": null, \"status\": \"Completed\", \"run_type\": null, \"training_percent\": \"100\", \"start_time\": \"2021-12-08T07:06:28.381948Z\", \"end_time\": \"2021-12-08T07:06:54.856168Z\", \"created_time\": \"2021-12-08T07:06:28.248409Z\", \"created_time_dt\": \"2021-12-08T07:06:28.248409Z\", \"duration\": \"0:00:26\", \"iteration\": \"1\", \"goal\": \"spearman_correlation_max\", \"run_name\": \"MaxAbsScaler, XGBoostRegressor\", \"run_properties\": \"copy=True\", \"primary_metric\": 0.92718101, \"best_metric\": 0.94595481}, {\"run_id\": \"AutoML_4e6b9a31-fdbd-4404-8114-29953371ae80_2\", \"run_number\": 185, \"metric\": null, \"status\": \"Completed\", \"run_type\": null, \"training_percent\": \"100\", \"start_time\": \"2021-12-08T07:06:55.581606Z\", \"end_time\": \"2021-12-08T07:09:01.321274Z\", \"created_time\": \"2021-12-08T07:06:55.44789Z\", \"created_time_dt\": \"2021-12-08T07:06:55.44789Z\", \"duration\": \"0:02:05\", \"iteration\": \"2\", \"goal\": \"spearman_correlation_max\", \"run_name\": \"MaxAbsScaler, ElasticNet\", \"run_properties\": \"copy=True\", \"primary_metric\": 0.85533717, \"best_metric\": 0.94595481}, {\"run_id\": \"AutoML_4e6b9a31-fdbd-4404-8114-29953371ae80_3\", \"run_number\": 186, \"metric\": null, \"status\": \"Completed\", \"run_type\": null, \"training_percent\": \"100\", \"start_time\": \"2021-12-08T07:09:02.530348Z\", \"end_time\": \"2021-12-08T07:09:32.786749Z\", \"created_time\": \"2021-12-08T07:09:02.411038Z\", \"created_time_dt\": \"2021-12-08T07:09:02.411038Z\", \"duration\": \"0:00:30\", \"iteration\": \"3\", \"goal\": \"spearman_correlation_max\", \"run_name\": \"StandardScalerWrapper, XGBoostRegressor\", \"run_properties\": \"\\n    copy=True,\\n    with_mean=False,\\n    with_std=False\\n\", \"primary_metric\": 0.94740723, \"best_metric\": 0.94740723}, {\"run_id\": \"AutoML_4e6b9a31-fdbd-4404-8114-29953371ae80_4\", \"run_number\": 187, \"metric\": null, \"status\": \"Completed\", \"run_type\": null, \"training_percent\": \"100\", \"start_time\": \"2021-12-08T07:09:34.211458Z\", \"end_time\": \"2021-12-08T07:09:56.373592Z\", \"created_time\": \"2021-12-08T07:09:34.086507Z\", \"created_time_dt\": \"2021-12-08T07:09:34.086507Z\", \"duration\": \"0:00:22\", \"iteration\": \"4\", \"goal\": \"spearman_correlation_max\", \"run_name\": \"StandardScalerWrapper, XGBoostRegressor\", \"run_properties\": \"\\n    copy=True,\\n    with_mean=False,\\n    with_std=False\\n\", \"primary_metric\": 0.85679418, \"best_metric\": 0.94740723}, {\"run_id\": \"AutoML_4e6b9a31-fdbd-4404-8114-29953371ae80_5\", \"run_number\": 188, \"metric\": null, \"status\": \"Completed\", \"run_type\": null, \"training_percent\": \"100\", \"start_time\": \"2021-12-08T07:09:57.612123Z\", \"end_time\": \"2021-12-08T07:10:20.580581Z\", \"created_time\": \"2021-12-08T07:09:57.457846Z\", \"created_time_dt\": \"2021-12-08T07:09:57.457846Z\", \"duration\": \"0:00:23\", \"iteration\": \"5\", \"goal\": \"spearman_correlation_max\", \"run_name\": \"StandardScalerWrapper, ExtremeRandomTrees\", \"run_properties\": \"\\n    copy=True,\\n    with_mean=False,\\n    with_std=False\\n\", \"primary_metric\": 0.86586152, \"best_metric\": 0.94740723}, {\"run_id\": \"AutoML_4e6b9a31-fdbd-4404-8114-29953371ae80_6\", \"run_number\": 189, \"metric\": null, \"status\": \"Completed\", \"run_type\": null, \"training_percent\": \"100\", \"start_time\": \"2021-12-08T07:10:22.142911Z\", \"end_time\": \"2021-12-08T07:10:54.691411Z\", \"created_time\": \"2021-12-08T07:10:22.008885Z\", \"created_time_dt\": \"2021-12-08T07:10:22.008885Z\", \"duration\": \"0:00:32\", \"iteration\": \"6\", \"goal\": \"spearman_correlation_max\", \"run_name\": \"StandardScalerWrapper, RandomForest\", \"run_properties\": \"\\n    copy=True,\\n    with_mean=False,\\n    with_std=True\\n\", \"primary_metric\": 0.91172512, \"best_metric\": 0.94740723}, {\"run_id\": \"AutoML_4e6b9a31-fdbd-4404-8114-29953371ae80_7\", \"run_number\": 190, \"metric\": null, \"status\": \"Completed\", \"run_type\": null, \"training_percent\": \"100\", \"start_time\": \"2021-12-08T07:10:55.991754Z\", \"end_time\": \"2021-12-08T07:11:17.637049Z\", \"created_time\": \"2021-12-08T07:10:55.862007Z\", \"created_time_dt\": \"2021-12-08T07:10:55.862007Z\", \"duration\": \"0:00:21\", \"iteration\": \"7\", \"goal\": \"spearman_correlation_max\", \"run_name\": \"StandardScalerWrapper, DecisionTree\", \"run_properties\": \"\\n    copy=True,\\n    with_mean=False,\\n    with_std=True\\n\", \"primary_metric\": 0.89243448, \"best_metric\": 0.94740723}, {\"run_id\": \"AutoML_4e6b9a31-fdbd-4404-8114-29953371ae80_8\", \"run_number\": 191, \"metric\": null, \"status\": \"Completed\", \"run_type\": null, \"training_percent\": \"100\", \"start_time\": \"2021-12-08T07:11:18.864938Z\", \"end_time\": \"2021-12-08T07:11:44.569943Z\", \"created_time\": \"2021-12-08T07:11:18.72319Z\", \"created_time_dt\": \"2021-12-08T07:11:18.72319Z\", \"duration\": \"0:00:25\", \"iteration\": \"8\", \"goal\": \"spearman_correlation_max\", \"run_name\": \"StandardScalerWrapper, LightGBM\", \"run_properties\": \"\\n    copy=True,\\n    with_mean=False,\\n    with_std=True\\n\", \"primary_metric\": 0.92237026, \"best_metric\": 0.94740723}, {\"run_id\": \"AutoML_4e6b9a31-fdbd-4404-8114-29953371ae80_9\", \"run_number\": 192, \"metric\": null, \"status\": \"Completed\", \"run_type\": null, \"training_percent\": \"100\", \"start_time\": \"2021-12-08T07:11:45.968483Z\", \"end_time\": \"2021-12-08T07:12:16.54455Z\", \"created_time\": \"2021-12-08T07:11:45.843181Z\", \"created_time_dt\": \"2021-12-08T07:11:45.843181Z\", \"duration\": \"0:00:30\", \"iteration\": \"9\", \"goal\": \"spearman_correlation_max\", \"run_name\": \"StandardScalerWrapper, LightGBM\", \"run_properties\": \"\\n    copy=True,\\n    with_mean=False,\\n    with_std=False\\n\", \"primary_metric\": 0.93947986, \"best_metric\": 0.94740723}, {\"run_id\": \"AutoML_4e6b9a31-fdbd-4404-8114-29953371ae80_10\", \"run_number\": 193, \"metric\": null, \"status\": \"Completed\", \"run_type\": null, \"training_percent\": \"100\", \"start_time\": \"2021-12-08T07:12:18.071105Z\", \"end_time\": \"2021-12-08T07:12:55.088006Z\", \"created_time\": \"2021-12-08T07:12:17.93909Z\", \"created_time_dt\": \"2021-12-08T07:12:17.93909Z\", \"duration\": \"0:00:37\", \"iteration\": \"10\", \"goal\": \"spearman_correlation_max\", \"run_name\": \"StandardScalerWrapper, ElasticNet\", \"run_properties\": \"\\n    copy=True,\\n    with_mean=False,\\n    with_std=True\\n\", \"primary_metric\": 0.85548414, \"best_metric\": 0.94740723}, {\"run_id\": \"AutoML_4e6b9a31-fdbd-4404-8114-29953371ae80_11\", \"run_number\": 194, \"metric\": null, \"status\": \"Completed\", \"run_type\": null, \"training_percent\": \"100\", \"start_time\": \"2021-12-08T07:12:56.339742Z\", \"end_time\": \"2021-12-08T07:14:49.934061Z\", \"created_time\": \"2021-12-08T07:12:56.205055Z\", \"created_time_dt\": \"2021-12-08T07:12:56.205055Z\", \"duration\": \"0:01:53\", \"iteration\": \"11\", \"goal\": \"spearman_correlation_max\", \"run_name\": \"StandardScalerWrapper, ElasticNet\", \"run_properties\": \"\\n    copy=True,\\n    with_mean=False,\\n    with_std=False\\n\", \"primary_metric\": 0.85307999, \"best_metric\": 0.94740723}, {\"run_id\": \"AutoML_4e6b9a31-fdbd-4404-8114-29953371ae80_12\", \"run_number\": 195, \"metric\": null, \"status\": \"Completed\", \"run_type\": null, \"training_percent\": \"100\", \"start_time\": \"2021-12-08T07:14:51.427019Z\", \"end_time\": \"2021-12-08T07:17:26.396359Z\", \"created_time\": \"2021-12-08T07:14:51.299448Z\", \"created_time_dt\": \"2021-12-08T07:14:51.299448Z\", \"duration\": \"0:02:35\", \"iteration\": \"12\", \"goal\": \"spearman_correlation_max\", \"run_name\": \"MaxAbsScaler, ExtremeRandomTrees\", \"run_properties\": \"copy=True\", \"primary_metric\": 0.89450022, \"best_metric\": 0.94740723}, {\"run_id\": \"AutoML_4e6b9a31-fdbd-4404-8114-29953371ae80_13\", \"run_number\": 196, \"metric\": null, \"status\": \"Completed\", \"run_type\": null, \"training_percent\": \"100\", \"start_time\": \"2021-12-08T07:17:28.019853Z\", \"end_time\": \"2021-12-08T07:17:57.629878Z\", \"created_time\": \"2021-12-08T07:17:27.878096Z\", \"created_time_dt\": \"2021-12-08T07:17:27.878096Z\", \"duration\": \"0:00:29\", \"iteration\": \"13\", \"goal\": \"spearman_correlation_max\", \"run_name\": \"StandardScalerWrapper, XGBoostRegressor\", \"run_properties\": \"\\n    copy=True,\\n    with_mean=False,\\n    with_std=False\\n\", \"primary_metric\": 0.94497396, \"best_metric\": 0.94740723}, {\"run_id\": \"AutoML_4e6b9a31-fdbd-4404-8114-29953371ae80_14\", \"run_number\": 197, \"metric\": null, \"status\": \"Completed\", \"run_type\": null, \"training_percent\": \"100\", \"start_time\": \"2021-12-08T07:17:58.902952Z\", \"end_time\": \"2021-12-08T07:18:20.159855Z\", \"created_time\": \"2021-12-08T07:17:58.774645Z\", \"created_time_dt\": \"2021-12-08T07:17:58.774645Z\", \"duration\": \"0:00:21\", \"iteration\": \"14\", \"goal\": \"spearman_correlation_max\", \"run_name\": \"StandardScalerWrapper, DecisionTree\", \"run_properties\": \"\\n    copy=True,\\n    with_mean=False,\\n    with_std=True\\n\", \"primary_metric\": 0.89062407, \"best_metric\": 0.94740723}, {\"run_id\": \"AutoML_4e6b9a31-fdbd-4404-8114-29953371ae80_15\", \"run_number\": 198, \"metric\": null, \"status\": \"Completed\", \"run_type\": null, \"training_percent\": \"100\", \"start_time\": \"2021-12-08T07:18:21.493239Z\", \"end_time\": \"2021-12-08T07:18:56.388953Z\", \"created_time\": \"2021-12-08T07:18:21.375004Z\", \"created_time_dt\": \"2021-12-08T07:18:21.375004Z\", \"duration\": \"0:00:35\", \"iteration\": \"15\", \"goal\": \"spearman_correlation_max\", \"run_name\": \"StandardScalerWrapper, ElasticNet\", \"run_properties\": \"\\n    copy=True,\\n    with_mean=False,\\n    with_std=True\\n\", \"primary_metric\": 0.85540494, \"best_metric\": 0.94740723}, {\"run_id\": \"AutoML_4e6b9a31-fdbd-4404-8114-29953371ae80_16\", \"run_number\": 199, \"metric\": null, \"status\": \"Completed\", \"run_type\": null, \"training_percent\": \"100\", \"start_time\": \"2021-12-08T07:18:57.660906Z\", \"end_time\": \"2021-12-08T07:19:37.983997Z\", \"created_time\": \"2021-12-08T07:18:57.494922Z\", \"created_time_dt\": \"2021-12-08T07:18:57.494922Z\", \"duration\": \"0:00:40\", \"iteration\": \"16\", \"goal\": \"spearman_correlation_max\", \"run_name\": \"StandardScalerWrapper, ExtremeRandomTrees\", \"run_properties\": \"\\n    copy=True,\\n    with_mean=False,\\n    with_std=False\\n\", \"primary_metric\": 0.9146792, \"best_metric\": 0.94740723}, {\"run_id\": \"AutoML_4e6b9a31-fdbd-4404-8114-29953371ae80_17\", \"run_number\": 200, \"metric\": null, \"status\": \"Completed\", \"run_type\": null, \"training_percent\": \"100\", \"start_time\": \"2021-12-08T07:19:39.253952Z\", \"end_time\": \"2021-12-08T07:20:02.86706Z\", \"created_time\": \"2021-12-08T07:19:39.131013Z\", \"created_time_dt\": \"2021-12-08T07:19:39.131013Z\", \"duration\": \"0:00:23\", \"iteration\": \"17\", \"goal\": \"spearman_correlation_max\", \"run_name\": \"MaxAbsScaler, DecisionTree\", \"run_properties\": \"copy=True\", \"primary_metric\": 0.91047784, \"best_metric\": 0.94740723}, {\"run_id\": \"AutoML_4e6b9a31-fdbd-4404-8114-29953371ae80_18\", \"run_number\": 201, \"metric\": null, \"status\": \"Completed\", \"run_type\": null, \"training_percent\": \"100\", \"start_time\": \"2021-12-08T07:20:04.323477Z\", \"end_time\": \"2021-12-08T07:20:27.308137Z\", \"created_time\": \"2021-12-08T07:20:04.079849Z\", \"created_time_dt\": \"2021-12-08T07:20:04.079849Z\", \"duration\": \"0:00:23\", \"iteration\": \"18\", \"goal\": \"spearman_correlation_max\", \"run_name\": \"MaxAbsScaler, SGD\", \"run_properties\": \"copy=True\", \"primary_metric\": 0.73010247, \"best_metric\": 0.94740723}, {\"run_id\": \"AutoML_4e6b9a31-fdbd-4404-8114-29953371ae80_19\", \"run_number\": 202, \"metric\": null, \"status\": \"Completed\", \"run_type\": null, \"training_percent\": \"100\", \"start_time\": \"2021-12-08T07:20:30.596791Z\", \"end_time\": \"2021-12-08T07:21:24.008654Z\", \"created_time\": \"2021-12-08T07:20:30.456712Z\", \"created_time_dt\": \"2021-12-08T07:20:30.456712Z\", \"duration\": \"0:00:53\", \"iteration\": \"19\", \"goal\": \"spearman_correlation_max\", \"run_name\": \"SparseNormalizer, XGBoostRegressor\", \"run_properties\": \"copy=True, norm='l1'\", \"primary_metric\": 0.83082955, \"best_metric\": 0.94740723}, {\"run_id\": \"AutoML_4e6b9a31-fdbd-4404-8114-29953371ae80_20\", \"run_number\": 203, \"metric\": null, \"status\": \"Completed\", \"run_type\": null, \"training_percent\": \"100\", \"start_time\": \"2021-12-08T07:21:24.35532Z\", \"end_time\": \"2021-12-08T07:21:55.861587Z\", \"created_time\": \"2021-12-08T07:21:24.234977Z\", \"created_time_dt\": \"2021-12-08T07:21:24.234977Z\", \"duration\": \"0:00:31\", \"iteration\": \"20\", \"goal\": \"spearman_correlation_max\", \"run_name\": \"VotingEnsemble\", \"run_properties\": \"\\n    estimators=[('3', Pipeline(\\n        memory=None,\\n        steps=[('standardscalerwrapper', StandardScalerWrapper(\\n            copy=True,\\n            with_mean=False,\\n            with_std=False\\n        \", \"primary_metric\": 0.94930978, \"best_metric\": 0.94930978}, {\"run_id\": \"AutoML_4e6b9a31-fdbd-4404-8114-29953371ae80_21\", \"run_number\": 204, \"metric\": null, \"status\": \"Completed\", \"run_type\": null, \"training_percent\": \"100\", \"start_time\": \"2021-12-08T07:21:56.21669Z\", \"end_time\": \"2021-12-08T07:22:26.710758Z\", \"created_time\": \"2021-12-08T07:21:56.094233Z\", \"created_time_dt\": \"2021-12-08T07:21:56.094233Z\", \"duration\": \"0:00:30\", \"iteration\": \"21\", \"goal\": \"spearman_correlation_max\", \"run_name\": \"StackEnsemble\", \"run_properties\": \"\\n    base_learners=[('3', Pipeline(\\n        memory=None,\\n        steps=[('standardscalerwrapper', StandardScalerWrapper(\\n            copy=True,\\n            with_mean=False,\\n            with_std=False\\n        \", \"primary_metric\": 0.94903129, \"best_metric\": 0.94930978}], \"children_metrics\": {\"categories\": [0], \"series\": {\"normalized_root_mean_squared_error\": [{\"categories\": [\"0\", \"1\", \"2\", \"3\", \"4\", \"5\", \"6\", \"7\", \"8\", \"9\", \"10\", \"11\", \"12\", \"13\", \"14\", \"15\", \"16\", \"17\", \"18\", \"19\", \"20\", \"21\"], \"mode\": \"markers\", \"name\": \"normalized_root_mean_squared_error\", \"stepped\": false, \"type\": \"scatter\", \"data\": [0.016837609279749248, 0.018576220367706724, 0.025259965752983993, 0.016923846944180813, 0.02927910533093242, 0.030355005413953362, 0.025464536312318452, 0.026754639042483985, 0.020500046533330492, 0.01985189697428611, 0.02526424365401806, 0.025365530030347166, 0.03147456449798731, 0.01703035880376161, 0.026788036836520767, 0.02527808990035855, 0.025992271929238937, 0.02364918045384644, 0.02852833299211785, 0.02475050858099475, 0.01665681367918113, 0.01652425237023803]}, {\"categories\": [\"0\", \"1\", \"2\", \"3\", \"4\", \"5\", \"6\", \"7\", \"8\", \"9\", \"10\", \"11\", \"12\", \"13\", \"14\", \"15\", \"16\", \"17\", \"18\", \"19\", \"20\", \"21\"], \"mode\": \"lines\", \"name\": \"normalized_root_mean_squared_error_min\", \"stepped\": true, \"type\": \"scatter\", \"data\": [0.016837609279749248, 0.016837609279749248, 0.016837609279749248, 0.016837609279749248, 0.016837609279749248, 0.016837609279749248, 0.016837609279749248, 0.016837609279749248, 0.016837609279749248, 0.016837609279749248, 0.016837609279749248, 0.016837609279749248, 0.016837609279749248, 0.016837609279749248, 0.016837609279749248, 0.016837609279749248, 0.016837609279749248, 0.016837609279749248, 0.016837609279749248, 0.016837609279749248, 0.01665681367918113, 0.01652425237023803]}], \"root_mean_squared_error\": [{\"categories\": [\"0\", \"1\", \"2\", \"3\", \"4\", \"5\", \"6\", \"7\", \"8\", \"9\", \"10\", \"11\", \"12\", \"13\", \"14\", \"15\", \"16\", \"17\", \"18\", \"19\", \"20\", \"21\"], \"mode\": \"markers\", \"name\": \"root_mean_squared_error\", \"stepped\": false, \"type\": \"scatter\", \"data\": [128386.77075808802, 141643.68030376377, 192607.23886650297, 129044.33294937869, 223253.17814835967, 231456.91628139437, 194167.08938142826, 204004.12269894037, 156312.854816645, 151370.71442893162, 192639.85786188772, 193412.16648139717, 239993.55429715323, 129856.48587868226, 204258.78087847086, 192745.43549023394, 198191.07346044687, 180325.00096057908, 217528.53906489856, 188722.62793008497, 127008.20430375612, 125997.424323065]}, {\"categories\": [\"0\", \"1\", \"2\", \"3\", \"4\", \"5\", \"6\", \"7\", \"8\", \"9\", \"10\", \"11\", \"12\", \"13\", \"14\", \"15\", \"16\", \"17\", \"18\", \"19\", \"20\", \"21\"], \"mode\": \"lines\", \"name\": \"root_mean_squared_error_min\", \"stepped\": true, \"type\": \"scatter\", \"data\": [128386.77075808802, 128386.77075808802, 128386.77075808802, 128386.77075808802, 128386.77075808802, 128386.77075808802, 128386.77075808802, 128386.77075808802, 128386.77075808802, 128386.77075808802, 128386.77075808802, 128386.77075808802, 128386.77075808802, 128386.77075808802, 128386.77075808802, 128386.77075808802, 128386.77075808802, 128386.77075808802, 128386.77075808802, 128386.77075808802, 127008.20430375612, 125997.424323065]}], \"root_mean_squared_log_error\": [{\"categories\": [\"0\", \"1\", \"2\", \"3\", \"4\", \"5\", \"6\", \"7\", \"8\", \"9\", \"10\", \"11\", \"12\", \"13\", \"14\", \"15\", \"16\", \"17\", \"18\", \"19\", \"20\", \"21\"], \"mode\": \"markers\", \"name\": \"root_mean_squared_log_error\", \"stepped\": false, \"type\": \"scatter\", \"data\": [0.17457048453087193, 0.1994700397035276, NaN, 0.17258205871603233, 0.29187914483438604, 0.2841461433071175, 0.23012463682393713, 0.24687197953946988, 0.2095724951998131, 0.18825144625331544, 0.30736497306129734, NaN, 0.2605753131796678, 0.1752763108204981, 0.24739697880964046, 0.31074662302622397, 0.23129288723633498, 0.2248623435640152, 0.34227938641972777, 0.2814821585591983, 0.17012891519377366, 0.16974646650144146]}, {\"categories\": [\"0\", \"1\", \"2\", \"3\", \"4\", \"5\", \"6\", \"7\", \"8\", \"9\", \"10\", \"11\", \"12\", \"13\", \"14\", \"15\", \"16\", \"17\", \"18\", \"19\", \"20\", \"21\"], \"mode\": \"lines\", \"name\": \"root_mean_squared_log_error_min\", \"stepped\": true, \"type\": \"scatter\", \"data\": [0.17457048453087193, 0.17457048453087193, 0.17457048453087193, 0.17258205871603233, 0.17258205871603233, 0.17258205871603233, 0.17258205871603233, 0.17258205871603233, 0.17258205871603233, 0.17258205871603233, 0.17258205871603233, 0.17258205871603233, 0.17258205871603233, 0.17258205871603233, 0.17258205871603233, 0.17258205871603233, 0.17258205871603233, 0.17258205871603233, 0.17258205871603233, 0.17258205871603233, 0.17012891519377366, 0.16974646650144146]}], \"mean_absolute_error\": [{\"categories\": [\"0\", \"1\", \"2\", \"3\", \"4\", \"5\", \"6\", \"7\", \"8\", \"9\", \"10\", \"11\", \"12\", \"13\", \"14\", \"15\", \"16\", \"17\", \"18\", \"19\", \"20\", \"21\"], \"mode\": \"markers\", \"name\": \"mean_absolute_error\", \"stepped\": false, \"type\": \"scatter\", \"data\": [68732.12876316671, 80296.08440120735, 120057.12115336827, 68137.77103636495, 124235.24024363793, 123141.5235319103, 97578.77919736758, 105671.80222660888, 85990.60406803507, 77133.67224243819, 119251.38889402543, 120397.30160469371, 111996.95286581837, 69422.66917925824, 106168.10747045474, 118952.81173301041, 99248.94070177316, 93902.26263452011, 142476.093424795, 116188.8868601793, 67129.00100630645, 67096.94879109898]}, {\"categories\": [\"0\", \"1\", \"2\", \"3\", \"4\", \"5\", \"6\", \"7\", \"8\", \"9\", \"10\", \"11\", \"12\", \"13\", \"14\", \"15\", \"16\", \"17\", \"18\", \"19\", \"20\", \"21\"], \"mode\": \"lines\", \"name\": \"mean_absolute_error_min\", \"stepped\": true, \"type\": \"scatter\", \"data\": [68732.12876316671, 68732.12876316671, 68732.12876316671, 68137.77103636495, 68137.77103636495, 68137.77103636495, 68137.77103636495, 68137.77103636495, 68137.77103636495, 68137.77103636495, 68137.77103636495, 68137.77103636495, 68137.77103636495, 68137.77103636495, 68137.77103636495, 68137.77103636495, 68137.77103636495, 68137.77103636495, 68137.77103636495, 68137.77103636495, 67129.00100630645, 67096.94879109898]}], \"normalized_root_mean_squared_log_error\": [{\"categories\": [\"0\", \"1\", \"2\", \"3\", \"4\", \"5\", \"6\", \"7\", \"8\", \"9\", \"10\", \"11\", \"12\", \"13\", \"14\", \"15\", \"16\", \"17\", \"18\", \"19\", \"20\", \"21\"], \"mode\": \"markers\", \"name\": \"normalized_root_mean_squared_log_error\", \"stepped\": false, \"type\": \"scatter\", \"data\": [0.03769220631812579, 0.043068368120731795, NaN, 0.037262877406868934, 0.06302078485157796, 0.06135112179365913, 0.049687123876417195, 0.05330310912507239, 0.045249629391266546, 0.04064611707376404, 0.06636439149908413, NaN, 0.056261850290284146, 0.03784460407428051, 0.05341646380161643, 0.0670945369673529, 0.049939365460632705, 0.04855092124862197, 0.07390290108917213, 0.06077593027135368, 0.0367332094505851, 0.03665063343519381]}, {\"categories\": [\"0\", \"1\", \"2\", \"3\", \"4\", \"5\", \"6\", \"7\", \"8\", \"9\", \"10\", \"11\", \"12\", \"13\", \"14\", \"15\", \"16\", \"17\", \"18\", \"19\", \"20\", \"21\"], \"mode\": \"lines\", \"name\": \"normalized_root_mean_squared_log_error_min\", \"stepped\": true, \"type\": \"scatter\", \"data\": [0.03769220631812579, 0.03769220631812579, 0.03769220631812579, 0.037262877406868934, 0.037262877406868934, 0.037262877406868934, 0.037262877406868934, 0.037262877406868934, 0.037262877406868934, 0.037262877406868934, 0.037262877406868934, 0.037262877406868934, 0.037262877406868934, 0.037262877406868934, 0.037262877406868934, 0.037262877406868934, 0.037262877406868934, 0.037262877406868934, 0.037262877406868934, 0.037262877406868934, 0.0367332094505851, 0.03665063343519381]}], \"median_absolute_error\": [{\"categories\": [\"0\", \"1\", \"2\", \"3\", \"4\", \"5\", \"6\", \"7\", \"8\", \"9\", \"10\", \"11\", \"12\", \"13\", \"14\", \"15\", \"16\", \"17\", \"18\", \"19\", \"20\", \"21\"], \"mode\": \"markers\", \"name\": \"median_absolute_error\", \"stepped\": false, \"type\": \"scatter\", \"data\": [40783.458204484916, 49211.3375, 82350.03831077805, 39742.8625, 76018.965625, 78690.84085645418, 53855.450858281736, 59179.13958061645, 52325.6300764229, 43020.01065382039, 81777.21589051085, 82955.31549866823, 61176.665, 40986.16875, 60214.95954354167, 81112.65363601499, 56684.04439292002, 53084.468270840196, 103458.75538047442, 78628.9515625, 38834.20780557214, 39317.147114910375]}, {\"categories\": [\"0\", \"1\", \"2\", \"3\", \"4\", \"5\", \"6\", \"7\", \"8\", \"9\", \"10\", \"11\", \"12\", \"13\", \"14\", \"15\", \"16\", \"17\", \"18\", \"19\", \"20\", \"21\"], \"mode\": \"lines\", \"name\": \"median_absolute_error_min\", \"stepped\": true, \"type\": \"scatter\", \"data\": [40783.458204484916, 40783.458204484916, 40783.458204484916, 39742.8625, 39742.8625, 39742.8625, 39742.8625, 39742.8625, 39742.8625, 39742.8625, 39742.8625, 39742.8625, 39742.8625, 39742.8625, 39742.8625, 39742.8625, 39742.8625, 39742.8625, 39742.8625, 39742.8625, 38834.20780557214, 38834.20780557214]}], \"r2_score\": [{\"categories\": [\"0\", \"1\", \"2\", \"3\", \"4\", \"5\", \"6\", \"7\", \"8\", \"9\", \"10\", \"11\", \"12\", \"13\", \"14\", \"15\", \"16\", \"17\", \"18\", \"19\", \"20\", \"21\"], \"mode\": \"markers\", \"name\": \"r2_score\", \"stepped\": false, \"type\": \"scatter\", \"data\": [0.8761923033129981, 0.8495849509712325, 0.7219304791316296, 0.8750758720558303, 0.626710252966008, 0.5989271841198579, 0.7174216848318435, 0.6873406543832496, 0.816660820071435, 0.8280903029344412, 0.7218484271577207, 0.7196049062002962, 0.5687692954808741, 0.8733160923712507, 0.6864034069788707, 0.721549261178966, 0.705891071784324, 0.7559794265207955, 0.6452661965027472, 0.7329817984573361, 0.8788172963428312, 0.8807826226587239]}, {\"categories\": [\"0\", \"1\", \"2\", \"3\", \"4\", \"5\", \"6\", \"7\", \"8\", \"9\", \"10\", \"11\", \"12\", \"13\", \"14\", \"15\", \"16\", \"17\", \"18\", \"19\", \"20\", \"21\"], \"mode\": \"lines\", \"name\": \"r2_score_max\", \"stepped\": true, \"type\": \"scatter\", \"data\": [0.8761923033129981, 0.8761923033129981, 0.8761923033129981, 0.8761923033129981, 0.8761923033129981, 0.8761923033129981, 0.8761923033129981, 0.8761923033129981, 0.8761923033129981, 0.8761923033129981, 0.8761923033129981, 0.8761923033129981, 0.8761923033129981, 0.8761923033129981, 0.8761923033129981, 0.8761923033129981, 0.8761923033129981, 0.8761923033129981, 0.8761923033129981, 0.8761923033129981, 0.8788172963428312, 0.8807826226587239]}], \"normalized_mean_absolute_error\": [{\"categories\": [\"0\", \"1\", \"2\", \"3\", \"4\", \"5\", \"6\", \"7\", \"8\", \"9\", \"10\", \"11\", \"12\", \"13\", \"14\", \"15\", \"16\", \"17\", \"18\", \"19\", \"20\", \"21\"], \"mode\": \"markers\", \"name\": \"normalized_mean_absolute_error\", \"stepped\": false, \"type\": \"scatter\", \"data\": [0.00901404967385793, 0.010530634019830471, 0.015745196216835185, 0.008936101119523272, 0.016293146261460716, 0.016149708004184957, 0.01279721694391706, 0.013858597013325752, 0.011277456271217715, 0.010115891441631237, 0.0156395264123312, 0.015789810046517208, 0.01468812496600897, 0.00910461235137813, 0.01392368622563341, 0.015600368751870219, 0.01301625451826533, 0.012315050837314115, 0.01868538930161246, 0.01523788680133499, 0.008803803410663141, 0.008799599841455605]}, {\"categories\": [\"0\", \"1\", \"2\", \"3\", \"4\", \"5\", \"6\", \"7\", \"8\", \"9\", \"10\", \"11\", \"12\", \"13\", \"14\", \"15\", \"16\", \"17\", \"18\", \"19\", \"20\", \"21\"], \"mode\": \"lines\", \"name\": \"normalized_mean_absolute_error_min\", \"stepped\": true, \"type\": \"scatter\", \"data\": [0.00901404967385793, 0.00901404967385793, 0.00901404967385793, 0.008936101119523272, 0.008936101119523272, 0.008936101119523272, 0.008936101119523272, 0.008936101119523272, 0.008936101119523272, 0.008936101119523272, 0.008936101119523272, 0.008936101119523272, 0.008936101119523272, 0.008936101119523272, 0.008936101119523272, 0.008936101119523272, 0.008936101119523272, 0.008936101119523272, 0.008936101119523272, 0.008936101119523272, 0.008803803410663141, 0.008799599841455605]}], \"normalized_median_absolute_error\": [{\"categories\": [\"0\", \"1\", \"2\", \"3\", \"4\", \"5\", \"6\", \"7\", \"8\", \"9\", \"10\", \"11\", \"12\", \"13\", \"14\", \"15\", \"16\", \"17\", \"18\", \"19\", \"20\", \"21\"], \"mode\": \"markers\", \"name\": \"normalized_median_absolute_error\", \"stepped\": false, \"type\": \"scatter\", \"data\": [0.00534865025632589, 0.006453945901639344, 0.010800005024364335, 0.00521217868852459, 0.009969700409836066, 0.010320110276256284, 0.007063009948627114, 0.007761198633523469, 0.006862377714940709, 0.005641968610337101, 0.010724880772526013, 0.010879385639169606, 0.00802316918032787, 0.005375235245901639, 0.007897043874562842, 0.01063772506701836, 0.007433973035137052, 0.006961897478142978, 0.013568361361373696, 0.010311993647540985, 0.005093010859747166, 0.005156347162611196]}, {\"categories\": [\"0\", \"1\", \"2\", \"3\", \"4\", \"5\", \"6\", \"7\", \"8\", \"9\", \"10\", \"11\", \"12\", \"13\", \"14\", \"15\", \"16\", \"17\", \"18\", \"19\", \"20\", \"21\"], \"mode\": \"lines\", \"name\": \"normalized_median_absolute_error_min\", \"stepped\": true, \"type\": \"scatter\", \"data\": [0.00534865025632589, 0.00534865025632589, 0.00534865025632589, 0.00521217868852459, 0.00521217868852459, 0.00521217868852459, 0.00521217868852459, 0.00521217868852459, 0.00521217868852459, 0.00521217868852459, 0.00521217868852459, 0.00521217868852459, 0.00521217868852459, 0.00521217868852459, 0.00521217868852459, 0.00521217868852459, 0.00521217868852459, 0.00521217868852459, 0.00521217868852459, 0.00521217868852459, 0.005093010859747166, 0.005093010859747166]}], \"explained_variance\": [{\"categories\": [\"0\", \"1\", \"2\", \"3\", \"4\", \"5\", \"6\", \"7\", \"8\", \"9\", \"10\", \"11\", \"12\", \"13\", \"14\", \"15\", \"16\", \"17\", \"18\", \"19\", \"20\", \"21\"], \"mode\": \"markers\", \"name\": \"explained_variance\", \"stepped\": false, \"type\": \"scatter\", \"data\": [0.8762280947442767, 0.8496561724629229, 0.7220743984955987, 0.8751330353031923, 0.6378885912526109, 0.5991593287045441, 0.717648201825771, 0.6875771886135409, 0.8168026164312593, 0.8281641705969541, 0.7219932162957363, 0.7197327478016089, 0.5794256613567522, 0.8733518364202075, 0.6866298806486011, 0.7216943943550439, 0.7061175859274369, 0.7560490721949418, 0.6455261275730828, 0.7331646171295347, 0.8788686264619698, 0.8808402130386523]}, {\"categories\": [\"0\", \"1\", \"2\", \"3\", \"4\", \"5\", \"6\", \"7\", \"8\", \"9\", \"10\", \"11\", \"12\", \"13\", \"14\", \"15\", \"16\", \"17\", \"18\", \"19\", \"20\", \"21\"], \"mode\": \"lines\", \"name\": \"explained_variance_max\", \"stepped\": true, \"type\": \"scatter\", \"data\": [0.8762280947442767, 0.8762280947442767, 0.8762280947442767, 0.8762280947442767, 0.8762280947442767, 0.8762280947442767, 0.8762280947442767, 0.8762280947442767, 0.8762280947442767, 0.8762280947442767, 0.8762280947442767, 0.8762280947442767, 0.8762280947442767, 0.8762280947442767, 0.8762280947442767, 0.8762280947442767, 0.8762280947442767, 0.8762280947442767, 0.8762280947442767, 0.8762280947442767, 0.8788686264619698, 0.8808402130386523]}], \"spearman_correlation\": [{\"categories\": [\"0\", \"1\", \"2\", \"3\", \"4\", \"5\", \"6\", \"7\", \"8\", \"9\", \"10\", \"11\", \"12\", \"13\", \"14\", \"15\", \"16\", \"17\", \"18\", \"19\", \"20\", \"21\"], \"mode\": \"markers\", \"name\": \"spearman_correlation\", \"stepped\": false, \"type\": \"scatter\", \"data\": [0.9459548134565787, 0.9271810069206736, 0.8553371680737785, 0.947407228190103, 0.856794178613271, 0.8658615237628264, 0.9117251178774911, 0.8924344848276741, 0.9223702641407086, 0.9394798580535395, 0.8554841392970483, 0.8530799877489376, 0.8945002190648934, 0.9449739638448461, 0.8906240707565027, 0.8554049448549932, 0.9146791975740728, 0.9104778381417391, 0.7301024680649257, 0.8308295463010158, 0.9493097805179522, 0.9490312868810676]}, {\"categories\": [\"0\", \"1\", \"2\", \"3\", \"4\", \"5\", \"6\", \"7\", \"8\", \"9\", \"10\", \"11\", \"12\", \"13\", \"14\", \"15\", \"16\", \"17\", \"18\", \"19\", \"20\", \"21\"], \"mode\": \"lines\", \"name\": \"spearman_correlation_max\", \"stepped\": true, \"type\": \"scatter\", \"data\": [0.9459548134565787, 0.9459548134565787, 0.9459548134565787, 0.947407228190103, 0.947407228190103, 0.947407228190103, 0.947407228190103, 0.947407228190103, 0.947407228190103, 0.947407228190103, 0.947407228190103, 0.947407228190103, 0.947407228190103, 0.947407228190103, 0.947407228190103, 0.947407228190103, 0.947407228190103, 0.947407228190103, 0.947407228190103, 0.947407228190103, 0.9493097805179522, 0.9493097805179522]}], \"mean_absolute_percentage_error\": [{\"categories\": [\"0\", \"1\", \"2\", \"3\", \"4\", \"5\", \"6\", \"7\", \"8\", \"9\", \"10\", \"11\", \"12\", \"13\", \"14\", \"15\", \"16\", \"17\", \"18\", \"19\", \"20\", \"21\"], \"mode\": \"markers\", \"name\": \"mean_absolute_percentage_error\", \"stepped\": false, \"type\": \"scatter\", \"data\": [13.070812520709001, 15.455027914429177, 23.62077265390614, 12.869039399183166, 23.172736429063548, 23.742398684258802, 17.81498617377236, 19.2139478791421, 16.295509266807972, 14.06511641118323, 23.37840342237312, 23.776219261102405, 19.134451551969683, 13.1389807485397, 19.320667090209508, 23.287149794578852, 18.177929113973963, 17.178930439965463, 29.378489319155893, 23.546691619249067, 12.670446335481923, 12.642696750137612]}, {\"categories\": [\"0\", \"1\", \"2\", \"3\", \"4\", \"5\", \"6\", \"7\", \"8\", \"9\", \"10\", \"11\", \"12\", \"13\", \"14\", \"15\", \"16\", \"17\", \"18\", \"19\", \"20\", \"21\"], \"mode\": \"lines\", \"name\": \"mean_absolute_percentage_error_min\", \"stepped\": true, \"type\": \"scatter\", \"data\": [13.070812520709001, 13.070812520709001, 13.070812520709001, 12.869039399183166, 12.869039399183166, 12.869039399183166, 12.869039399183166, 12.869039399183166, 12.869039399183166, 12.869039399183166, 12.869039399183166, 12.869039399183166, 12.869039399183166, 12.869039399183166, 12.869039399183166, 12.869039399183166, 12.869039399183166, 12.869039399183166, 12.869039399183166, 12.869039399183166, 12.670446335481923, 12.642696750137612]}]}, \"metricName\": null, \"primaryMetricName\": \"spearman_correlation\", \"showLegend\": false}, \"run_metrics\": [{\"name\": \"normalized_median_absolute_error\", \"run_id\": \"AutoML_4e6b9a31-fdbd-4404-8114-29953371ae80\", \"categories\": [0], \"series\": [{\"data\": [0.005093010859747166]}]}, {\"name\": \"spearman_correlation\", \"run_id\": \"AutoML_4e6b9a31-fdbd-4404-8114-29953371ae80\", \"categories\": [0], \"series\": [{\"data\": [0.9493097805179522]}]}, {\"name\": \"mean_absolute_error\", \"run_id\": \"AutoML_4e6b9a31-fdbd-4404-8114-29953371ae80\", \"categories\": [0], \"series\": [{\"data\": [67129.00100630645]}]}, {\"name\": \"explained_variance\", \"run_id\": \"AutoML_4e6b9a31-fdbd-4404-8114-29953371ae80\", \"categories\": [0], \"series\": [{\"data\": [0.8788686264619698]}]}, {\"name\": \"root_mean_squared_error\", \"run_id\": \"AutoML_4e6b9a31-fdbd-4404-8114-29953371ae80\", \"categories\": [0], \"series\": [{\"data\": [127008.20430375612]}]}, {\"name\": \"normalized_mean_absolute_error\", \"run_id\": \"AutoML_4e6b9a31-fdbd-4404-8114-29953371ae80\", \"categories\": [0], \"series\": [{\"data\": [0.008803803410663141]}]}, {\"name\": \"median_absolute_error\", \"run_id\": \"AutoML_4e6b9a31-fdbd-4404-8114-29953371ae80\", \"categories\": [0], \"series\": [{\"data\": [38834.20780557214]}]}, {\"name\": \"mean_absolute_percentage_error\", \"run_id\": \"AutoML_4e6b9a31-fdbd-4404-8114-29953371ae80\", \"categories\": [0], \"series\": [{\"data\": [12.670446335481923]}]}, {\"name\": \"root_mean_squared_log_error\", \"run_id\": \"AutoML_4e6b9a31-fdbd-4404-8114-29953371ae80\", \"categories\": [0], \"series\": [{\"data\": [0.17012891519377366]}]}, {\"name\": \"r2_score\", \"run_id\": \"AutoML_4e6b9a31-fdbd-4404-8114-29953371ae80\", \"categories\": [0], \"series\": [{\"data\": [0.8788172963428312]}]}, {\"name\": \"normalized_root_mean_squared_error\", \"run_id\": \"AutoML_4e6b9a31-fdbd-4404-8114-29953371ae80\", \"categories\": [0], \"series\": [{\"data\": [0.01665681367918113]}]}, {\"name\": \"normalized_root_mean_squared_log_error\", \"run_id\": \"AutoML_4e6b9a31-fdbd-4404-8114-29953371ae80\", \"categories\": [0], \"series\": [{\"data\": [0.0367332094505851]}]}], \"run_logs\": \"\\nRun is completed.\", \"graph\": {}, \"widget_settings\": {\"childWidgetDisplay\": \"popup\", \"send_telemetry\": false, \"log_level\": \"INFO\", \"sdk_version\": \"1.34.0\"}, \"loading\": false}"
          },
          "metadata": {}
        }
      ],
      "execution_count": 20,
      "metadata": {
        "gather": {
          "logged": 1638948554716
        }
      }
    },
    {
      "cell_type": "markdown",
      "source": [
        "### Retrieve the best model"
      ],
      "metadata": {}
    },
    {
      "cell_type": "markdown",
      "source": [
        "Select the best model from your iterations. The `get_output` function returns the best run and the fitted model for the last fit invocation. By using the overloads on `get_output`, you can retrieve the best run and fitted model for any logged metric or a particular iteration."
      ],
      "metadata": {}
    },
    {
      "cell_type": "code",
      "source": [
        "best_run, fitted_model = local_run.get_output()\n",
        "print(best_run)\n",
        "print(fitted_model)"
      ],
      "outputs": [
        {
          "output_type": "stream",
          "name": "stdout",
          "text": "Run(Experiment: capstone,\nId: AutoML_4e6b9a31-fdbd-4404-8114-29953371ae80_20,\nType: None,\nStatus: Completed)\nRegressionPipeline(pipeline=Pipeline(memory=None,\n                                     steps=[('datatransformer',\n                                             DataTransformer(enable_dnn=False, enable_feature_sweeping=True, feature_sweeping_config={}, feature_sweeping_timeout=86400, featurization_config=None, force_text_dnn=False, is_cross_validation=True, is_onnx_compatible=False, observer=None, task='regression', working_dir='/mnt/batch/ta...\n), random_state=None, reg_alpha=1.275, reg_lambda=0.825, subsample=0.9, subsample_freq=7))], verbose=False)), ('1', Pipeline(memory=None, steps=[('maxabsscaler', MaxAbsScaler(copy=True)), ('xgboostregressor', XGBoostRegressor(n_jobs=1, problem_info=ProblemInfo(\n    gpu_training_param_dict={'processing_unit_type': 'cpu'}\n), random_state=0, tree_method='auto'))], verbose=False))], weights=[0.4, 0.2, 0.06666666666666667, 0.26666666666666666, 0.06666666666666667]))],\n                                     verbose=False),\n                   stddev=[127460.54889077733])\n"
        }
      ],
      "execution_count": 21,
      "metadata": {
        "gather": {
          "logged": 1638948560866
        }
      }
    },
    {
      "cell_type": "markdown",
      "source": [
        "### Test the best model accuracy"
      ],
      "metadata": {}
    },
    {
      "cell_type": "markdown",
      "source": [
        "Use the best model to run predictions on the test data set to predict taxi fares. The function `predict` uses the best model and predicts the values of y, **trip cost**, from the `x_test` data set. Print the first 10 predicted cost values from `y_predict`."
      ],
      "metadata": {}
    },
    {
      "cell_type": "code",
      "source": [
        "y_test = x_test.pop(\"price\")\n",
        "\n",
        "y_predict = fitted_model.predict(x_test)\n",
        "print(y_predict[:10])"
      ],
      "outputs": [
        {
          "output_type": "stream",
          "name": "stdout",
          "text": "[ 780047.86384769  982726.22060548  339086.32350731  521014.57551736\n  451141.53251081  589577.7420506  2106454.8253411   286630.6239526\n  423477.60617199  905163.97597772]\n"
        }
      ],
      "execution_count": 23,
      "metadata": {
        "gather": {
          "logged": 1638948582967
        }
      }
    },
    {
      "cell_type": "code",
      "source": [
        "import numpy as np\n",
        "import matplotlib.pyplot as plt\n",
        "x = np.linspace(1,4323,4323)\n",
        "fig,ax = plt.subplots()\n",
        "ax.plot(x,y_test,color = 'r',label = 'Data target')\n",
        "ax.plot(x,y_predict,color='b', label = 'Prediksi')\n",
        "plt.legend()\n",
        "plt.show()"
      ],
      "outputs": [
        {
          "output_type": "display_data",
          "data": {
            "text/plain": "<Figure size 432x288 with 1 Axes>",
            "image/png": "[encoded data removed]"
          },
          "metadata": {
            "needs_background": "light"
          }
        }
      ],
      "execution_count": 44,
      "metadata": {
        "jupyter": {
          "source_hidden": false,
          "outputs_hidden": false
        },
        "nteract": {
          "transient": {
            "deleting": false
          }
        }
      }
    },
    {
      "cell_type": "markdown",
      "source": [
        "Calculate the `root mean squared error` of the results. Convert the `y_test` dataframe to a list to compare to the predicted values. The function `mean_squared_error` takes two arrays of values and calculates the average squared error between them. Taking the square root of the result gives an error in the same units as the y variable, **cost**. It indicates roughly how far the taxi fare predictions are from the actual fares."
      ],
      "metadata": {}
    },
    {
      "cell_type": "code",
      "source": [
        "from sklearn.metrics import mean_squared_error\n",
        "from math import sqrt\n",
        "\n",
        "y_actual = y_test.values.flatten().tolist()\n",
        "rmse = sqrt(mean_squared_error(y_actual, y_predict))\n",
        "rmse"
      ],
      "outputs": [
        {
          "output_type": "execute_result",
          "execution_count": 24,
          "data": {
            "text/plain": "119908.72055655869"
          },
          "metadata": {}
        }
      ],
      "execution_count": 24,
      "metadata": {
        "gather": {
          "logged": 1638948590235
        }
      }
    },
    {
      "cell_type": "markdown",
      "source": [
        "Run the following code to calculate mean absolute percent error (MAPE) by using the full `y_actual` and `y_predict` data sets. This metric calculates an absolute difference between each predicted and actual value and sums all the differences. Then it expresses that sum as a percent of the total of the actual values."
      ],
      "metadata": {}
    },
    {
      "cell_type": "code",
      "source": [
        "sum_actuals = sum_errors = 0\n",
        "\n",
        "for actual_val, predict_val in zip(y_actual, y_predict):\n",
        "    abs_error = actual_val - predict_val\n",
        "    if abs_error < 0:\n",
        "        abs_error = abs_error * -1\n",
        "\n",
        "    sum_errors = sum_errors + abs_error\n",
        "    sum_actuals = sum_actuals + actual_val\n",
        "\n",
        "mean_abs_percent_error = sum_errors / sum_actuals\n",
        "print(\"Model MAPE:\")\n",
        "print(mean_abs_percent_error)\n",
        "print()\n",
        "print(\"Model Accuracy:\")\n",
        "print(1 - mean_abs_percent_error)"
      ],
      "outputs": [
        {
          "output_type": "stream",
          "name": "stdout",
          "text": "Model MAPE:\n0.12470105621928483\n\nModel Accuracy:\n0.8752989437807152\n"
        }
      ],
      "execution_count": 25,
      "metadata": {
        "gather": {
          "logged": 1638948595014
        }
      }
    },
    {
      "cell_type": "markdown",
      "source": [
        "From the two prediction accuracy metrics, you see that the model is fairly good at predicting taxi fares from the data set's features, typically within +- $4.00, and approximately 15% error. \n",
        "\n",
        "The traditional machine learning model development process is highly resource-intensive, and requires significant domain knowledge and time investment to run and compare the results of dozens of models. Using automated machine learning is a great way to rapidly test many different models for your scenario."
      ],
      "metadata": {}
    },
    {
      "cell_type": "markdown",
      "source": [
        "## Clean up resources"
      ],
      "metadata": {}
    },
    {
      "cell_type": "markdown",
      "source": [
        "Do not complete this section if you plan on running other Azure Machine Learning service tutorials."
      ],
      "metadata": {}
    },
    {
      "cell_type": "markdown",
      "source": [
        "### Stop the notebook VM"
      ],
      "metadata": {}
    },
    {
      "cell_type": "markdown",
      "source": [
        "If you used a cloud notebook server, stop the VM when you are not using it to reduce cost."
      ],
      "metadata": {}
    },
    {
      "cell_type": "markdown",
      "source": [
        "1. In your workspace, select **Compute**.\n",
        "1. Select the **Notebook VMs** tab in the compute page.\n",
        "1. From the list, select the VM.\n",
        "1. Select **Stop**.\n",
        "1. When you're ready to use the server again, select **Start**."
      ],
      "metadata": {}
    },
    {
      "cell_type": "markdown",
      "source": [
        "### Delete everything"
      ],
      "metadata": {}
    },
    {
      "cell_type": "markdown",
      "source": [
        "If you don't plan to use the resources you created, delete them, so you don't incur any charges."
      ],
      "metadata": {}
    },
    {
      "cell_type": "markdown",
      "source": [
        "1. In the Azure portal, select **Resource groups** on the far left.\n",
        "1. From the list, select the resource group you created.\n",
        "1. Select **Delete resource group**.\n",
        "1. Enter the resource group name. Then select **Delete**.\n",
        "\n",
        "You can also keep the resource group but delete a single workspace. Display the workspace properties and select **Delete**."
      ],
      "metadata": {}
    },
    {
      "cell_type": "markdown",
      "source": [
        "## Next steps"
      ],
      "metadata": {}
    },
    {
      "cell_type": "markdown",
      "source": [
        "In this automated machine learning tutorial, you did the following tasks:\n",
        "\n",
        "> * Configured a workspace and prepared data for an experiment.\n",
        "> * Trained by using an automated regression model locally with custom parameters.\n",
        "> * Explored and reviewed training results.\n",
        "\n",
        "[Deploy your model](https://docs.microsoft.com/azure/machine-learning/service/tutorial-deploy-models-with-aml) with Azure Machine Learning service."
      ],
      "metadata": {}
    },
    {
      "cell_type": "code",
      "source": [],
      "outputs": [],
      "execution_count": null,
      "metadata": {}
    }
  ],
  "metadata": {
    "authors": [
      {
        "name": "jeffshep"
      }
    ],
    "microsoft": {
      "host": {
        "AzureML": {
          "notebookHasBeenCompleted": true
        }
      }
    },
    "network_required": false,
    "kernel_info": {
      "name": "python3-azureml"
    },
    "msauthor": "trbye",
    "language_info": {
      "name": "python",
      "version": "3.6.9",
      "mimetype": "text/x-python",
      "codemirror_mode": {
        "name": "ipython",
        "version": 3
      },
      "pygments_lexer": "ipython3",
      "nbconvert_exporter": "python",
      "file_extension": ".py"
    },
    "kernelspec": {
      "name": "python3-azureml",
      "language": "python",
      "display_name": "Python 3.6 - AzureML"
    },
    "categories": [
      "tutorials"
    ],
    "nteract": {
      "version": "nteract-front-end@1.0.0"
    }
  },
  "nbformat": 4,
  "nbformat_minor": 2
}